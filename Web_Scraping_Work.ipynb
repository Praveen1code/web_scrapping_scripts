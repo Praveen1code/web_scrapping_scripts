{
 "cells": [
  {
   "cell_type": "code",
   "execution_count": 103,
   "metadata": {},
   "outputs": [],
   "source": [
    "import requests, re, typing\n",
    "from bs4 import BeautifulSoup as soup\n",
    "import contextlib\n",
    "from selenium import webdriver\n",
    "import pandas as pd\n",
    "from urllib.request import urlopen\n",
    "import csv\n",
    "from datetime import datetime\n",
    "import requests \n",
    "import mechanize\n",
    "import http.cookiejar as cookielib\n",
    "import html2text\n",
    "from datetime import date\n",
    "from bs4 import BeautifulSoup\n",
    "import datetime"
   ]
  },
  {
   "cell_type": "markdown",
   "metadata": {},
   "source": [
    "#  1. Scraping Historical ( Petrol  or Diesel ) price\n",
    "\n",
    "## https://www.mypetrolprice.com/"
   ]
  },
  {
   "cell_type": "code",
   "execution_count": 173,
   "metadata": {},
   "outputs": [],
   "source": [
    "from selenium.webdriver.common.keys import Keys\n",
    "from selenium.webdriver.common.action_chains import ActionChains\n",
    "from selenium import webdriver"
   ]
  },
  {
   "cell_type": "code",
   "execution_count": 174,
   "metadata": {},
   "outputs": [],
   "source": [
    "headers={'User-Agent': 'Chrome/127.0.0.1:9666'}"
   ]
  },
  {
   "cell_type": "code",
   "execution_count": 175,
   "metadata": {},
   "outputs": [],
   "source": [
    "search_link = 'https://www.mypetrolprice.com/3/Diesel-price-in-Mumbai?FuelType=1&LocationId=3'"
   ]
  },
  {
   "cell_type": "code",
   "execution_count": 176,
   "metadata": {},
   "outputs": [],
   "source": [
    "chromedriver = r'C:\\Users\\pprajapati3\\AppData\\Roaming\\Microsoft\\Windows\\Start Menu\\Programs\\Python 3.8\\chromedriver.exe'"
   ]
  },
  {
   "cell_type": "code",
   "execution_count": 177,
   "metadata": {},
   "outputs": [],
   "source": [
    "driver = webdriver.Chrome(chromedriver)\n",
    "driver.get(search_link)\n",
    "action = ActionChains(driver)"
   ]
  },
  {
   "cell_type": "code",
   "execution_count": 178,
   "metadata": {},
   "outputs": [],
   "source": [
    "end_d=\"31-Jan-2020\""
   ]
  },
  {
   "cell_type": "code",
   "execution_count": 179,
   "metadata": {},
   "outputs": [],
   "source": [
    "diesel=[]\n",
    "Date=[]\n",
    "inf=10000\n",
    "for i in range(inf):\n",
    "    \n",
    "    value1=driver.find_elements_by_class_name('GVPrice')\n",
    "    value2=driver.find_elements_by_class_name('HDday')\n",
    "    value3=driver.find_elements_by_class_name('HDmonth')\n",
    "    value4=driver.find_elements_by_class_name('HDyear')\n",
    "    \n",
    "    w=str(value2[0].text)+\"-\"+str(value3[0].text)+\"-\"+str(value4[0].text)\n",
    "    x=str(value2[1].text)+\"-\"+str(value3[1].text)+\"-\"+str(value4[1].text)\n",
    "    y=str(value2[2].text)+\"-\"+str(value3[2].text)+\"-\"+str(value4[2].text)\n",
    "    z=str(value2[3].text)+\"-\"+str(value3[3].text)+\"-\"+str(value4[3].text)\n",
    "   # print(w)\n",
    "   # print(x)\n",
    "   # print(y)\n",
    "   # print(z)\n",
    "    if w==end_d:\n",
    "        diesel.append((value1[0].text))\n",
    "        Date.append(w)\n",
    "        break\n",
    "    elif x==end_d:\n",
    "        diesel.append((value1[0].text))\n",
    "        diesel.append((value1[1].text))\n",
    "        Date.append(w)\n",
    "        Date.append(x)\n",
    "        break\n",
    "    elif y==end_d:\n",
    "        diesel.append((value1[0].text))\n",
    "        diesel.append((value1[1].text))\n",
    "        diesel.append((value1[2].text))\n",
    "        Date.append(w)\n",
    "        Date.append(x)\n",
    "        Date.append(y)\n",
    "        \n",
    "        break\n",
    "    elif z==end_d:\n",
    "        diesel.append((value1[0].text))\n",
    "        diesel.append((value1[1].text))\n",
    "        diesel.append((value1[2].text))\n",
    "        diesel.append((value1[3].text))\n",
    "        Date.append(w)\n",
    "        Date.append(x)\n",
    "        Date.append(y)\n",
    "        Date.append(z)\n",
    "        break\n",
    "    else:\n",
    "        diesel.append((value1[0].text))\n",
    "        diesel.append((value1[1].text))\n",
    "        diesel.append((value1[2].text))\n",
    "        diesel.append((value1[3].text))\n",
    "        Date.append(w)\n",
    "        Date.append(x)\n",
    "        Date.append(y)\n",
    "        Date.append(z)\n",
    "    secondLevelMenu = driver.find_element_by_xpath(\"//*[@id='BC_GV_CustomGridPager_NextButton']\")\n",
    "    if i==0:\n",
    "        action.move_to_element(secondLevelMenu).perform()\n",
    "        \n",
    "    try:\n",
    "        secondLevelMenu.click()\n",
    "        \n",
    "    except:\n",
    "        continue "
   ]
  },
  {
   "cell_type": "markdown",
   "metadata": {},
   "source": [
    "### Download CSV file"
   ]
  },
  {
   "cell_type": "code",
   "execution_count": 180,
   "metadata": {},
   "outputs": [],
   "source": [
    "data_price = pd.DataFrame({'Date': Date,'Diesel_price':diesel})\n",
    "data_price_final=data_price.drop_duplicates(subset='Date',keep=\"last\").reset_index()\n",
    "data_price_final.to_csv(\"diesel_price.csv\")"
   ]
  },
  {
   "cell_type": "code",
   "execution_count": 183,
   "metadata": {},
   "outputs": [
    {
     "data": {
      "text/html": [
       "<div>\n",
       "<style scoped>\n",
       "    .dataframe tbody tr th:only-of-type {\n",
       "        vertical-align: middle;\n",
       "    }\n",
       "\n",
       "    .dataframe tbody tr th {\n",
       "        vertical-align: top;\n",
       "    }\n",
       "\n",
       "    .dataframe thead th {\n",
       "        text-align: right;\n",
       "    }\n",
       "</style>\n",
       "<table border=\"1\" class=\"dataframe\">\n",
       "  <thead>\n",
       "    <tr style=\"text-align: right;\">\n",
       "      <th></th>\n",
       "      <th>index</th>\n",
       "      <th>Date</th>\n",
       "      <th>Diesel_price</th>\n",
       "    </tr>\n",
       "  </thead>\n",
       "  <tbody>\n",
       "    <tr>\n",
       "      <th>0</th>\n",
       "      <td>4</td>\n",
       "      <td>24-Feb-2020</td>\n",
       "      <td>₹ 67.76</td>\n",
       "    </tr>\n",
       "    <tr>\n",
       "      <th>1</th>\n",
       "      <td>5</td>\n",
       "      <td>21-Feb-2020</td>\n",
       "      <td>₹ 67.71</td>\n",
       "    </tr>\n",
       "    <tr>\n",
       "      <th>2</th>\n",
       "      <td>6</td>\n",
       "      <td>20-Feb-2020</td>\n",
       "      <td>₹ 67.71</td>\n",
       "    </tr>\n",
       "    <tr>\n",
       "      <th>3</th>\n",
       "      <td>7</td>\n",
       "      <td>19-Feb-2020</td>\n",
       "      <td>₹ 67.71</td>\n",
       "    </tr>\n",
       "    <tr>\n",
       "      <th>4</th>\n",
       "      <td>8</td>\n",
       "      <td>18-Feb-2020</td>\n",
       "      <td>₹ 67.71</td>\n",
       "    </tr>\n",
       "    <tr>\n",
       "      <th>5</th>\n",
       "      <td>9</td>\n",
       "      <td>17-Feb-2020</td>\n",
       "      <td>₹ 67.76</td>\n",
       "    </tr>\n",
       "    <tr>\n",
       "      <th>6</th>\n",
       "      <td>10</td>\n",
       "      <td>15-Feb-2020</td>\n",
       "      <td>₹ 67.84</td>\n",
       "    </tr>\n",
       "    <tr>\n",
       "      <th>7</th>\n",
       "      <td>11</td>\n",
       "      <td>14-Feb-2020</td>\n",
       "      <td>₹ 67.84</td>\n",
       "    </tr>\n",
       "    <tr>\n",
       "      <th>8</th>\n",
       "      <td>12</td>\n",
       "      <td>13-Feb-2020</td>\n",
       "      <td>₹ 67.89</td>\n",
       "    </tr>\n",
       "    <tr>\n",
       "      <th>9</th>\n",
       "      <td>13</td>\n",
       "      <td>12-Feb-2020</td>\n",
       "      <td>₹ 67.94</td>\n",
       "    </tr>\n",
       "  </tbody>\n",
       "</table>\n",
       "</div>"
      ],
      "text/plain": [
       "   index         Date Diesel_price\n",
       "0      4  24-Feb-2020      ₹ 67.76\n",
       "1      5  21-Feb-2020      ₹ 67.71\n",
       "2      6  20-Feb-2020      ₹ 67.71\n",
       "3      7  19-Feb-2020      ₹ 67.71\n",
       "4      8  18-Feb-2020      ₹ 67.71\n",
       "5      9  17-Feb-2020      ₹ 67.76\n",
       "6     10  15-Feb-2020      ₹ 67.84\n",
       "7     11  14-Feb-2020      ₹ 67.84\n",
       "8     12  13-Feb-2020      ₹ 67.89\n",
       "9     13  12-Feb-2020      ₹ 67.94"
      ]
     },
     "execution_count": 183,
     "metadata": {},
     "output_type": "execute_result"
    }
   ],
   "source": [
    "data_price_final.head(10)"
   ]
  },
  {
   "cell_type": "markdown",
   "metadata": {},
   "source": [
    "#### ------------------------------------------------------------------------------------------------------------------------------------------------------------------------------------------------------------------"
   ]
  },
  {
   "cell_type": "markdown",
   "metadata": {},
   "source": [
    "#  2. Scraping all Holidays for any year ( State wise ) \n",
    "\n",
    "##  https://www.officeholidays.com/"
   ]
  },
  {
   "cell_type": "code",
   "execution_count": 138,
   "metadata": {},
   "outputs": [],
   "source": [
    "Years=[2018,2019,2020]\n",
    "Day=[]\n",
    "Date=[]\n",
    "Holiday_name=[]\n",
    "Type=[]\n",
    "Comments=[]\n",
    "Year=[]"
   ]
  },
  {
   "cell_type": "code",
   "execution_count": 139,
   "metadata": {},
   "outputs": [
    {
     "name": "stdout",
     "output_type": "stream",
     "text": [
      "2018\n",
      "Source Page Fetched\n",
      "2019\n",
      "Source Page Fetched\n",
      "2020\n",
      "Source Page Fetched\n"
     ]
    }
   ],
   "source": [
    "for i in Years:\n",
    "    url='https://www.officeholidays.com/countries/india/maharashtra/'+str(i)\n",
    "    headers={'User-Agent': 'Chrome/80.0.3987.106'}\n",
    "    response=requests.get(url,headers)\n",
    "    print(i)\n",
    "    if response.status_code==200:\n",
    "        print('Source Page Fetched')\n",
    "    else:\n",
    "        print('Error Cant Fecth Source Fetched')\n",
    "    soup=BeautifulSoup(response.content,'html.parser')\n",
    "    stat_table=soup.find_all('table',class_='country-table')\n",
    "    pp=stat_table[0]\n",
    "    u=0\n",
    "    for row in pp.find_all('tr'):\n",
    "        u=u+1\n",
    "        y=[]\n",
    "        for cell in row.find_all('td'):\n",
    "           # print(cell.text)\n",
    "            y.append(cell.text)\n",
    "        try:\n",
    "            \n",
    "            Day.append(y[0])\n",
    "            Date.append(y[1])\n",
    "            Holiday_name.append(y[2])\n",
    "            Type.append(y[3])\n",
    "            Comments.append(y[4])\n",
    "        except:\n",
    "            continue\n",
    "      \n",
    "  #  print(u)\n",
    "    year1=[i for j in range(u-1)]\n",
    "    Year.extend(year1)             "
   ]
  },
  {
   "cell_type": "markdown",
   "metadata": {},
   "source": [
    "## Cunstruct CSV file for Extracted data"
   ]
  },
  {
   "cell_type": "code",
   "execution_count": 140,
   "metadata": {},
   "outputs": [],
   "source": [
    "Holiday_data=pd.DataFrame({\"Day\": Day,'Date': Date,'Year': Year,'Holiday_name': Holiday_name,'Type': Type,'Commnet': Comments})"
   ]
  },
  {
   "cell_type": "code",
   "execution_count": 141,
   "metadata": {},
   "outputs": [
    {
     "data": {
      "text/html": [
       "<div>\n",
       "<style scoped>\n",
       "    .dataframe tbody tr th:only-of-type {\n",
       "        vertical-align: middle;\n",
       "    }\n",
       "\n",
       "    .dataframe tbody tr th {\n",
       "        vertical-align: top;\n",
       "    }\n",
       "\n",
       "    .dataframe thead th {\n",
       "        text-align: right;\n",
       "    }\n",
       "</style>\n",
       "<table border=\"1\" class=\"dataframe\">\n",
       "  <thead>\n",
       "    <tr style=\"text-align: right;\">\n",
       "      <th></th>\n",
       "      <th>Day</th>\n",
       "      <th>Date</th>\n",
       "      <th>Year</th>\n",
       "      <th>Holiday_name</th>\n",
       "      <th>Type</th>\n",
       "      <th>Commnet</th>\n",
       "    </tr>\n",
       "  </thead>\n",
       "  <tbody>\n",
       "    <tr>\n",
       "      <th>0</th>\n",
       "      <td>Friday</td>\n",
       "      <td>Jan 26</td>\n",
       "      <td>2018</td>\n",
       "      <td>Republic Day</td>\n",
       "      <td>Public Holiday</td>\n",
       "      <td></td>\n",
       "    </tr>\n",
       "    <tr>\n",
       "      <th>1</th>\n",
       "      <td>Tuesday</td>\n",
       "      <td>Feb 13</td>\n",
       "      <td>2018</td>\n",
       "      <td>Mahashivratri</td>\n",
       "      <td>Regional Holiday</td>\n",
       "      <td>Most states</td>\n",
       "    </tr>\n",
       "    <tr>\n",
       "      <th>2</th>\n",
       "      <td>Monday</td>\n",
       "      <td>Feb 19</td>\n",
       "      <td>2018</td>\n",
       "      <td>Chahhtrapati Shivaji Maharaj Jayanti</td>\n",
       "      <td>Regional Holiday</td>\n",
       "      <td>Maharashtra only</td>\n",
       "    </tr>\n",
       "    <tr>\n",
       "      <th>3</th>\n",
       "      <td>Friday</td>\n",
       "      <td>Mar 02</td>\n",
       "      <td>2018</td>\n",
       "      <td>Holi (Second Day)</td>\n",
       "      <td>Regional Holiday</td>\n",
       "      <td></td>\n",
       "    </tr>\n",
       "    <tr>\n",
       "      <th>4</th>\n",
       "      <td>Sunday</td>\n",
       "      <td>Mar 25</td>\n",
       "      <td>2018</td>\n",
       "      <td>Ram Navami</td>\n",
       "      <td>Regional Holiday</td>\n",
       "      <td></td>\n",
       "    </tr>\n",
       "  </tbody>\n",
       "</table>\n",
       "</div>"
      ],
      "text/plain": [
       "       Day    Date  Year                          Holiday_name  \\\n",
       "0   Friday  Jan 26  2018                          Republic Day   \n",
       "1  Tuesday  Feb 13  2018                         Mahashivratri   \n",
       "2   Monday  Feb 19  2018  Chahhtrapati Shivaji Maharaj Jayanti   \n",
       "3   Friday  Mar 02  2018                     Holi (Second Day)   \n",
       "4   Sunday  Mar 25  2018                            Ram Navami   \n",
       "\n",
       "               Type           Commnet  \n",
       "0    Public Holiday                    \n",
       "1  Regional Holiday       Most states  \n",
       "2  Regional Holiday  Maharashtra only  \n",
       "3  Regional Holiday                    \n",
       "4  Regional Holiday                    "
      ]
     },
     "execution_count": 141,
     "metadata": {},
     "output_type": "execute_result"
    }
   ],
   "source": [
    "Holiday_data.head(5)"
   ]
  },
  {
   "cell_type": "markdown",
   "metadata": {},
   "source": [
    "### Download into CSV form"
   ]
  },
  {
   "cell_type": "code",
   "execution_count": 142,
   "metadata": {},
   "outputs": [],
   "source": [
    "Holiday_data.to_csv('Holidays.csv')"
   ]
  },
  {
   "cell_type": "markdown",
   "metadata": {},
   "source": [
    "#### ------------------------------------------------------------------------------------------------------------------------------------------------------------------------------------------------------------------"
   ]
  },
  {
   "cell_type": "markdown",
   "metadata": {},
   "source": [
    "# 3. Scraping Historical Wearther Data\n",
    "1. *District Wise.*\n",
    "2. *Hourly Level.*\n",
    "\n",
    "## https://www.worldweatheronline.com/"
   ]
  },
  {
   "cell_type": "markdown",
   "metadata": {},
   "source": [
    "### You can Scrape data from (year 2009) till Today's date "
   ]
  },
  {
   "cell_type": "code",
   "execution_count": 143,
   "metadata": {},
   "outputs": [],
   "source": [
    "from wwo_hist import retrieve_hist_data\n",
    "import os"
   ]
  },
  {
   "cell_type": "markdown",
   "metadata": {},
   "source": [
    "#### Set path for downloaded files."
   ]
  },
  {
   "cell_type": "code",
   "execution_count": 144,
   "metadata": {},
   "outputs": [],
   "source": [
    "os.chdir(r\"C:\\Users\\pprajapati3\")"
   ]
  },
  {
   "cell_type": "markdown",
   "metadata": {},
   "source": [
    "#### Set Hourly interval"
   ]
  },
  {
   "cell_type": "code",
   "execution_count": 145,
   "metadata": {},
   "outputs": [],
   "source": [
    "# Six hours difference\n",
    "frequency = 6 "
   ]
  },
  {
   "cell_type": "markdown",
   "metadata": {},
   "source": [
    "#### List of Districts"
   ]
  },
  {
   "cell_type": "code",
   "execution_count": 149,
   "metadata": {},
   "outputs": [],
   "source": [
    "location_list = [ 'Pune','Delhi'] "
   ]
  },
  {
   "cell_type": "code",
   "execution_count": 150,
   "metadata": {},
   "outputs": [
    {
     "name": "stdout",
     "output_type": "stream",
     "text": [
      "\n",
      "\n",
      "Retrieving weather data for Pune\n",
      "\n",
      "\n",
      "Currently retrieving data for Pune: from 2020-02-15 to 2020-02-19\n",
      "Time elapsed (hh:mm:ss.ms) 0:00:00.843205\n",
      "\n",
      "\n",
      "export Pune completed!\n",
      "\n",
      "\n",
      "\n",
      "\n",
      "Retrieving weather data for Delhi\n",
      "\n",
      "\n",
      "Currently retrieving data for Delhi: from 2020-02-15 to 2020-02-19\n",
      "Time elapsed (hh:mm:ss.ms) 0:00:00.844449\n",
      "\n",
      "\n",
      "export Delhi completed!\n",
      "\n",
      "\n"
     ]
    }
   ],
   "source": [
    "start_date = '15-Feb-2020'\n",
    "end_date = '19-Feb-2020'\n",
    "api_key = 'b03be65990b147e294273846202001'\n",
    "\n",
    "hist_weather_data = retrieve_hist_data(api_key,\n",
    "                                location_list,\n",
    "                                start_date,\n",
    "                                end_date,\n",
    "                                frequency,\n",
    "                                location_label = False,\n",
    "                                export_csv = True,\n",
    "                            store_df = True)"
   ]
  },
  {
   "cell_type": "markdown",
   "metadata": {},
   "source": [
    "#### ------------------------------------------------------------------------------------------------------------------------------------------------------------------------------------------------------------------"
   ]
  },
  {
   "cell_type": "code",
   "execution_count": null,
   "metadata": {},
   "outputs": [],
   "source": []
  },
  {
   "cell_type": "markdown",
   "metadata": {},
   "source": [
    "# 4. Scraping Future Weather data ( From today )\n",
    "## https://www.accuweather.com/"
   ]
  },
  {
   "cell_type": "markdown",
   "metadata": {},
   "source": [
    "### Count number of days from today_date to End_date"
   ]
  },
  {
   "cell_type": "code",
   "execution_count": 151,
   "metadata": {},
   "outputs": [],
   "source": [
    "today_date=date(2020,2,21)\n",
    "end_date=date(2020,3,31)\n",
    "no_days=end_date-today_date\n",
    "no_days=int(no_days.days+1)"
   ]
  },
  {
   "cell_type": "code",
   "execution_count": 152,
   "metadata": {},
   "outputs": [],
   "source": [
    "Min_temp=[]\n",
    "Max_temp=[]\n",
    "Precipitation=[]\n",
    "Sun_hours=[]"
   ]
  },
  {
   "cell_type": "markdown",
   "metadata": {},
   "source": [
    "### Set Chrome Header for VPN Location  ( IP Address ) from (dovelopers tool of chrome ) :"
   ]
  },
  {
   "cell_type": "code",
   "execution_count": 153,
   "metadata": {},
   "outputs": [],
   "source": [
    "headers={'User-Agent': 'Chrome/127.0.0.1:9666'}"
   ]
  },
  {
   "cell_type": "markdown",
   "metadata": {},
   "source": [
    "### Scrape Data for all dates"
   ]
  },
  {
   "cell_type": "code",
   "execution_count": 154,
   "metadata": {},
   "outputs": [
    {
     "name": "stdout",
     "output_type": "stream",
     "text": [
      "day :  1\n",
      "https://www.accuweather.com/en/in/delhi/202396/daily-weather-forecast/202396?day=1\n",
      "<Response [200]>\n",
      "day :  2\n",
      "https://www.accuweather.com/en/in/delhi/202396/daily-weather-forecast/202396?day=2\n",
      "<Response [200]>\n",
      "day :  3\n",
      "https://www.accuweather.com/en/in/delhi/202396/daily-weather-forecast/202396?day=3\n",
      "<Response [200]>\n",
      "day :  4\n",
      "https://www.accuweather.com/en/in/delhi/202396/daily-weather-forecast/202396?day=4\n",
      "<Response [200]>\n",
      "day :  5\n",
      "https://www.accuweather.com/en/in/delhi/202396/daily-weather-forecast/202396?day=5\n",
      "<Response [200]>\n",
      "day :  6\n",
      "https://www.accuweather.com/en/in/delhi/202396/daily-weather-forecast/202396?day=6\n",
      "<Response [200]>\n",
      "day :  7\n",
      "https://www.accuweather.com/en/in/delhi/202396/daily-weather-forecast/202396?day=7\n",
      "<Response [200]>\n",
      "day :  8\n",
      "https://www.accuweather.com/en/in/delhi/202396/daily-weather-forecast/202396?day=8\n",
      "<Response [200]>\n",
      "day :  9\n",
      "https://www.accuweather.com/en/in/delhi/202396/daily-weather-forecast/202396?day=9\n",
      "<Response [200]>\n",
      "day :  10\n",
      "https://www.accuweather.com/en/in/delhi/202396/daily-weather-forecast/202396?day=10\n",
      "<Response [200]>\n",
      "day :  11\n",
      "https://www.accuweather.com/en/in/delhi/202396/daily-weather-forecast/202396?day=11\n",
      "<Response [200]>\n",
      "day :  12\n",
      "https://www.accuweather.com/en/in/delhi/202396/daily-weather-forecast/202396?day=12\n",
      "<Response [200]>\n",
      "day :  13\n",
      "https://www.accuweather.com/en/in/delhi/202396/daily-weather-forecast/202396?day=13\n",
      "<Response [200]>\n",
      "day :  14\n",
      "https://www.accuweather.com/en/in/delhi/202396/daily-weather-forecast/202396?day=14\n",
      "<Response [200]>\n",
      "day :  15\n",
      "https://www.accuweather.com/en/in/delhi/202396/daily-weather-forecast/202396?day=15\n",
      "<Response [200]>\n",
      "day :  16\n",
      "https://www.accuweather.com/en/in/delhi/202396/daily-weather-forecast/202396?day=16\n",
      "<Response [200]>\n",
      "day :  17\n",
      "https://www.accuweather.com/en/in/delhi/202396/daily-weather-forecast/202396?day=17\n",
      "<Response [200]>\n",
      "day :  18\n",
      "https://www.accuweather.com/en/in/delhi/202396/daily-weather-forecast/202396?day=18\n",
      "<Response [200]>\n",
      "day :  19\n",
      "https://www.accuweather.com/en/in/delhi/202396/daily-weather-forecast/202396?day=19\n",
      "<Response [200]>\n",
      "day :  20\n",
      "https://www.accuweather.com/en/in/delhi/202396/daily-weather-forecast/202396?day=20\n",
      "<Response [200]>\n",
      "day :  21\n",
      "https://www.accuweather.com/en/in/delhi/202396/daily-weather-forecast/202396?day=21\n",
      "<Response [200]>\n",
      "day :  22\n",
      "https://www.accuweather.com/en/in/delhi/202396/daily-weather-forecast/202396?day=22\n",
      "<Response [200]>\n",
      "day :  23\n",
      "https://www.accuweather.com/en/in/delhi/202396/daily-weather-forecast/202396?day=23\n",
      "<Response [200]>\n",
      "day :  24\n",
      "https://www.accuweather.com/en/in/delhi/202396/daily-weather-forecast/202396?day=24\n",
      "<Response [200]>\n",
      "day :  25\n",
      "https://www.accuweather.com/en/in/delhi/202396/daily-weather-forecast/202396?day=25\n",
      "<Response [200]>\n",
      "day :  26\n",
      "https://www.accuweather.com/en/in/delhi/202396/daily-weather-forecast/202396?day=26\n",
      "<Response [200]>\n",
      "day :  27\n",
      "https://www.accuweather.com/en/in/delhi/202396/daily-weather-forecast/202396?day=27\n",
      "<Response [200]>\n",
      "day :  28\n",
      "https://www.accuweather.com/en/in/delhi/202396/daily-weather-forecast/202396?day=28\n",
      "<Response [200]>\n",
      "day :  29\n",
      "https://www.accuweather.com/en/in/delhi/202396/daily-weather-forecast/202396?day=29\n",
      "<Response [200]>\n",
      "day :  30\n",
      "https://www.accuweather.com/en/in/delhi/202396/daily-weather-forecast/202396?day=30\n",
      "<Response [200]>\n",
      "day :  31\n",
      "https://www.accuweather.com/en/in/delhi/202396/daily-weather-forecast/202396?day=31\n",
      "<Response [200]>\n",
      "day :  32\n",
      "https://www.accuweather.com/en/in/delhi/202396/daily-weather-forecast/202396?day=32\n",
      "<Response [200]>\n",
      "day :  33\n",
      "https://www.accuweather.com/en/in/delhi/202396/daily-weather-forecast/202396?day=33\n",
      "<Response [200]>\n",
      "day :  34\n",
      "https://www.accuweather.com/en/in/delhi/202396/daily-weather-forecast/202396?day=34\n",
      "<Response [200]>\n",
      "day :  35\n",
      "https://www.accuweather.com/en/in/delhi/202396/daily-weather-forecast/202396?day=35\n",
      "<Response [200]>\n",
      "day :  36\n",
      "https://www.accuweather.com/en/in/delhi/202396/daily-weather-forecast/202396?day=36\n",
      "<Response [200]>\n",
      "day :  37\n",
      "https://www.accuweather.com/en/in/delhi/202396/daily-weather-forecast/202396?day=37\n",
      "<Response [200]>\n",
      "day :  38\n",
      "https://www.accuweather.com/en/in/delhi/202396/daily-weather-forecast/202396?day=38\n",
      "<Response [200]>\n",
      "day :  39\n",
      "https://www.accuweather.com/en/in/delhi/202396/daily-weather-forecast/202396?day=39\n",
      "<Response [200]>\n",
      "day :  40\n",
      "https://www.accuweather.com/en/in/delhi/202396/daily-weather-forecast/202396?day=40\n",
      "<Response [200]>\n"
     ]
    }
   ],
   "source": [
    "for i in range(1,(no_days+1)):\n",
    "    \n",
    "    print(\"day : \",i)\n",
    "    url='https://www.accuweather.com/en/in/delhi/202396/daily-weather-forecast/202396?day='+str(i)\n",
    "    print(url)\n",
    "    \n",
    "    \n",
    "    headers={'User-Agent': 'Chrome/127.0.0.1:9666'}\n",
    "    webpage = requests.get(url, headers=headers,timeout=100)\n",
    "    print(webpage)\n",
    "    soup=BeautifulSoup(webpage.content,'html.parser')\n",
    "    \n",
    "    stat_table=soup.find_all('p',class_='value')\n",
    "    y=str(stat_table[0])\n",
    "    y=y.replace('<p class=\"value\">\\n\\t\\t\\t\\t','')\n",
    "    y=y.replace('°<span class=\"hi-lo-label\">Hi</span>\\n</p>','')\n",
    "    # print(int(y))\n",
    "    temp1= int(y)\n",
    "    #print(temp1)\n",
    "    \n",
    "    y=str(stat_table[1])\n",
    "    y=y.replace('<p class=\"value\">\\n\\t\\t\\t\\t','')\n",
    "    \n",
    "    y=y.replace('°<span class=\"hi-lo-label\">Lo</span>\\n</p>','')\n",
    "    \n",
    "    temp2= int(y)  \n",
    "    #print(temp2)\n",
    "    stat_table=soup.find_all('span',class_='section-content')\n",
    "    pp=stat_table[0]\n",
    "    \n",
    "    \n",
    "    stat_table=soup.find_all('div',class_='temperatures')\n",
    "    stat_table=soup.find_all('span',class_='section-content last')\n",
    "    y=str(stat_table[0])\n",
    "    y=y.replace('<span class=\"section-content last\">\\n\\t\\t\\t\\t\\t','')\n",
    "    y=y.replace(' hr\\n\\t\\t\\t\\t</span>','')\n",
    "    y=y.replace(':','.')\n",
    "    sun_hour=float(y)\n",
    "    \n",
    "    \n",
    "    stat_table=soup.find_all('div',class_='list')\n",
    "    pp=stat_table[0]\n",
    "    op=0\n",
    "    for row in pp.find_all('p'):\n",
    "        p=row.text\n",
    "        #print(p[4])\n",
    "        if p[4]=='R':\n",
    "            op=float(p[9:13])\n",
    "    op1=0\n",
    "    try:\n",
    "    \n",
    "        pp=stat_table[1]\n",
    "        \n",
    "        for row in pp.find_all('p'):\n",
    "            p=row.text\n",
    "        \n",
    "            if p[4]=='R':\n",
    "                op1=float(p[9:13])\n",
    "                \n",
    "    except:\n",
    "        Max_temp.append(temp1)\n",
    "        Min_temp.append(temp2)\n",
    "        Precipitation.append(op+op1)\n",
    "        Sun_hours.append(sun_hour)\n",
    "        continue\n",
    "        \n",
    "    #print(op)\n",
    "    #print(op1)\n",
    "    Max_temp.append(temp1)\n",
    "    Min_temp.append(temp2)\n",
    "    Precipitation.append(op+op1)\n",
    "    Sun_hours.append(sun_hour)"
   ]
  },
  {
   "cell_type": "code",
   "execution_count": 155,
   "metadata": {},
   "outputs": [],
   "source": [
    "base = datetime.datetime.today()\n",
    "date_list = [base - datetime.timedelta(days=x) for x in range(no_days)]"
   ]
  },
  {
   "cell_type": "code",
   "execution_count": 156,
   "metadata": {},
   "outputs": [],
   "source": [
    "data_file=pd.DataFrame({'Date':date_list,'Max_temp': Max_temp ,'Min_temp': Min_temp ,'Precipitation': Precipitation,'Sun_hours': Sun_hours })"
   ]
  },
  {
   "cell_type": "code",
   "execution_count": 157,
   "metadata": {},
   "outputs": [
    {
     "data": {
      "text/html": [
       "<div>\n",
       "<style scoped>\n",
       "    .dataframe tbody tr th:only-of-type {\n",
       "        vertical-align: middle;\n",
       "    }\n",
       "\n",
       "    .dataframe tbody tr th {\n",
       "        vertical-align: top;\n",
       "    }\n",
       "\n",
       "    .dataframe thead th {\n",
       "        text-align: right;\n",
       "    }\n",
       "</style>\n",
       "<table border=\"1\" class=\"dataframe\">\n",
       "  <thead>\n",
       "    <tr style=\"text-align: right;\">\n",
       "      <th></th>\n",
       "      <th>Date</th>\n",
       "      <th>Max_temp</th>\n",
       "      <th>Min_temp</th>\n",
       "      <th>Precipitation</th>\n",
       "      <th>Sun_hours</th>\n",
       "    </tr>\n",
       "  </thead>\n",
       "  <tbody>\n",
       "    <tr>\n",
       "      <th>0</th>\n",
       "      <td>2020-02-24 11:39:32.828403</td>\n",
       "      <td>26</td>\n",
       "      <td>13</td>\n",
       "      <td>0.0</td>\n",
       "      <td>11.26</td>\n",
       "    </tr>\n",
       "    <tr>\n",
       "      <th>1</th>\n",
       "      <td>2020-02-23 11:39:32.828403</td>\n",
       "      <td>26</td>\n",
       "      <td>14</td>\n",
       "      <td>0.0</td>\n",
       "      <td>11.28</td>\n",
       "    </tr>\n",
       "    <tr>\n",
       "      <th>2</th>\n",
       "      <td>2020-02-22 11:39:32.828403</td>\n",
       "      <td>27</td>\n",
       "      <td>14</td>\n",
       "      <td>0.0</td>\n",
       "      <td>11.29</td>\n",
       "    </tr>\n",
       "    <tr>\n",
       "      <th>3</th>\n",
       "      <td>2020-02-21 11:39:32.828403</td>\n",
       "      <td>28</td>\n",
       "      <td>15</td>\n",
       "      <td>0.0</td>\n",
       "      <td>11.31</td>\n",
       "    </tr>\n",
       "    <tr>\n",
       "      <th>4</th>\n",
       "      <td>2020-02-20 11:39:32.828403</td>\n",
       "      <td>28</td>\n",
       "      <td>17</td>\n",
       "      <td>0.0</td>\n",
       "      <td>11.33</td>\n",
       "    </tr>\n",
       "    <tr>\n",
       "      <th>5</th>\n",
       "      <td>2020-02-19 11:39:32.828403</td>\n",
       "      <td>28</td>\n",
       "      <td>16</td>\n",
       "      <td>2.0</td>\n",
       "      <td>11.34</td>\n",
       "    </tr>\n",
       "    <tr>\n",
       "      <th>6</th>\n",
       "      <td>2020-02-18 11:39:32.828403</td>\n",
       "      <td>28</td>\n",
       "      <td>16</td>\n",
       "      <td>0.0</td>\n",
       "      <td>11.36</td>\n",
       "    </tr>\n",
       "    <tr>\n",
       "      <th>7</th>\n",
       "      <td>2020-02-17 11:39:32.828403</td>\n",
       "      <td>28</td>\n",
       "      <td>16</td>\n",
       "      <td>0.0</td>\n",
       "      <td>11.37</td>\n",
       "    </tr>\n",
       "    <tr>\n",
       "      <th>8</th>\n",
       "      <td>2020-02-16 11:39:32.828403</td>\n",
       "      <td>28</td>\n",
       "      <td>16</td>\n",
       "      <td>1.0</td>\n",
       "      <td>11.39</td>\n",
       "    </tr>\n",
       "    <tr>\n",
       "      <th>9</th>\n",
       "      <td>2020-02-15 11:39:32.828403</td>\n",
       "      <td>27</td>\n",
       "      <td>16</td>\n",
       "      <td>1.0</td>\n",
       "      <td>11.41</td>\n",
       "    </tr>\n",
       "  </tbody>\n",
       "</table>\n",
       "</div>"
      ],
      "text/plain": [
       "                        Date  Max_temp  Min_temp  Precipitation  Sun_hours\n",
       "0 2020-02-24 11:39:32.828403        26        13            0.0      11.26\n",
       "1 2020-02-23 11:39:32.828403        26        14            0.0      11.28\n",
       "2 2020-02-22 11:39:32.828403        27        14            0.0      11.29\n",
       "3 2020-02-21 11:39:32.828403        28        15            0.0      11.31\n",
       "4 2020-02-20 11:39:32.828403        28        17            0.0      11.33\n",
       "5 2020-02-19 11:39:32.828403        28        16            2.0      11.34\n",
       "6 2020-02-18 11:39:32.828403        28        16            0.0      11.36\n",
       "7 2020-02-17 11:39:32.828403        28        16            0.0      11.37\n",
       "8 2020-02-16 11:39:32.828403        28        16            1.0      11.39\n",
       "9 2020-02-15 11:39:32.828403        27        16            1.0      11.41"
      ]
     },
     "execution_count": 157,
     "metadata": {},
     "output_type": "execute_result"
    }
   ],
   "source": [
    "data_file.head(10)"
   ]
  },
  {
   "cell_type": "markdown",
   "metadata": {},
   "source": [
    "#### ------------------------------------------------------------------------------------------------------------------------------------------------------------------------------------------------------------------"
   ]
  },
  {
   "cell_type": "code",
   "execution_count": null,
   "metadata": {},
   "outputs": [],
   "source": []
  },
  {
   "cell_type": "code",
   "execution_count": null,
   "metadata": {},
   "outputs": [],
   "source": []
  },
  {
   "cell_type": "code",
   "execution_count": null,
   "metadata": {},
   "outputs": [],
   "source": []
  }
 ],
 "metadata": {
  "kernelspec": {
   "display_name": "Python 3",
   "language": "python",
   "name": "python3"
  },
  "language_info": {
   "codemirror_mode": {
    "name": "ipython",
    "version": 3
   },
   "file_extension": ".py",
   "mimetype": "text/x-python",
   "name": "python",
   "nbconvert_exporter": "python",
   "pygments_lexer": "ipython3",
   "version": "3.8.1"
  }
 },
 "nbformat": 4,
 "nbformat_minor": 4
}
